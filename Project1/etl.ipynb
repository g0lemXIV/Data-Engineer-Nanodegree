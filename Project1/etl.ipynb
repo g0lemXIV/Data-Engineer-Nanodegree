{
 "cells": [
  {
   "cell_type": "markdown",
<<<<<<< HEAD
   "metadata": {
    "editable": true
   },
=======
   "metadata": {},
>>>>>>> master
   "source": [
    "# ETL Processes\n",
    "Use this notebook to develop the ETL process for each of your tables before completing the `etl.py` file to load the whole datasets."
   ]
  },
  {
   "cell_type": "code",
<<<<<<< HEAD
   "execution_count": 1,
   "metadata": {
    "editable": true
   },
   "outputs": [],
   "source": [
    "%%bash\n",
    "tar -czf archive.tar.gz data"
   ]
  },
  {
   "cell_type": "code",
   "execution_count": 2,
   "metadata": {
    "editable": true
   },
   "outputs": [],
   "source": [
    "%load_ext autoreload\n",
    "%autoreload 2\n",
    "\n",
=======
   "execution_count": null,
   "metadata": {},
   "outputs": [],
   "source": [
>>>>>>> master
    "import os\n",
    "import glob\n",
    "import psycopg2\n",
    "import pandas as pd\n",
<<<<<<< HEAD
    "from sql_queries import *\n",
    "\n",
    "SONG_PATH = './data/song_data/'\n",
    "LOG_PATH = './data/log_data/'"
=======
    "from sql_queries import *"
>>>>>>> master
   ]
  },
  {
   "cell_type": "code",
<<<<<<< HEAD
   "execution_count": 3,
   "metadata": {
    "editable": true
   },
=======
   "execution_count": null,
   "metadata": {},
>>>>>>> master
   "outputs": [],
   "source": [
    "conn = psycopg2.connect(\"host=127.0.0.1 dbname=sparkifydb user=student password=student\")\n",
    "cur = conn.cursor()"
   ]
  },
  {
   "cell_type": "code",
<<<<<<< HEAD
   "execution_count": 4,
   "metadata": {
    "editable": true
   },
=======
   "execution_count": null,
   "metadata": {},
>>>>>>> master
   "outputs": [],
   "source": [
    "def get_files(filepath):\n",
    "    all_files = []\n",
    "    for root, dirs, files in os.walk(filepath):\n",
    "        files = glob.glob(os.path.join(root,'*.json'))\n",
    "        for f in files :\n",
    "            all_files.append(os.path.abspath(f))\n",
    "    \n",
    "    return all_files"
   ]
  },
  {
   "cell_type": "markdown",
<<<<<<< HEAD
   "metadata": {
    "editable": true
   },
=======
   "metadata": {},
>>>>>>> master
   "source": [
    "# Process `song_data`\n",
    "In this first part, you'll perform ETL on the first dataset, `song_data`, to create the `songs` and `artists` dimensional tables.\n",
    "\n",
    "Let's perform ETL on a single song file and load a single record into each table to start.\n",
    "- Use the `get_files` function provided above to get a list of all song JSON files in `data/song_data`\n",
    "- Select the first song in this list\n",
    "- Read the song file and view the data"
   ]
  },
  {
   "cell_type": "code",
<<<<<<< HEAD
   "execution_count": 5,
   "metadata": {
    "editable": true
   },
   "outputs": [],
   "source": [
    "song_files = get_files(SONG_PATH)\n",
    "song_iterator = iter(song_files)"
=======
   "execution_count": null,
   "metadata": {},
   "outputs": [],
   "source": [
    "song_files = "
>>>>>>> master
   ]
  },
  {
   "cell_type": "code",
<<<<<<< HEAD
   "execution_count": 8,
   "metadata": {
    "editable": true
   },
   "outputs": [
    {
     "data": {
      "text/plain": [
       "'/home/workspace/data/song_data/A/B/C/TRABCTK128F934B224.json'"
      ]
     },
     "execution_count": 8,
     "metadata": {},
     "output_type": "execute_result"
    }
   ],
   "source": [
    "filepath = next(song_iterator)\n",
    "filepath"
=======
   "execution_count": null,
   "metadata": {},
   "outputs": [],
   "source": [
    "filepath = "
>>>>>>> master
   ]
  },
  {
   "cell_type": "code",
<<<<<<< HEAD
   "execution_count": 9,
   "metadata": {
    "editable": true
   },
   "outputs": [
    {
     "data": {
      "text/html": [
       "<div>\n",
       "<style scoped>\n",
       "    .dataframe tbody tr th:only-of-type {\n",
       "        vertical-align: middle;\n",
       "    }\n",
       "\n",
       "    .dataframe tbody tr th {\n",
       "        vertical-align: top;\n",
       "    }\n",
       "\n",
       "    .dataframe thead th {\n",
       "        text-align: right;\n",
       "    }\n",
       "</style>\n",
       "<table border=\"1\" class=\"dataframe\">\n",
       "  <thead>\n",
       "    <tr style=\"text-align: right;\">\n",
       "      <th></th>\n",
       "      <th>artist_id</th>\n",
       "      <th>artist_latitude</th>\n",
       "      <th>artist_location</th>\n",
       "      <th>artist_longitude</th>\n",
       "      <th>artist_name</th>\n",
       "      <th>duration</th>\n",
       "      <th>num_songs</th>\n",
       "      <th>song_id</th>\n",
       "      <th>title</th>\n",
       "      <th>year</th>\n",
       "    </tr>\n",
       "  </thead>\n",
       "  <tbody>\n",
       "    <tr>\n",
       "      <th>0</th>\n",
       "      <td>AR558FS1187FB45658</td>\n",
       "      <td>NaN</td>\n",
       "      <td></td>\n",
       "      <td>NaN</td>\n",
       "      <td>40 Grit</td>\n",
       "      <td>75.67628</td>\n",
       "      <td>1</td>\n",
       "      <td>SOGDBUF12A8C140FAA</td>\n",
       "      <td>Intro</td>\n",
       "      <td>2003</td>\n",
       "    </tr>\n",
       "  </tbody>\n",
       "</table>\n",
       "</div>"
      ],
      "text/plain": [
       "            artist_id  artist_latitude artist_location  artist_longitude  \\\n",
       "0  AR558FS1187FB45658              NaN                               NaN   \n",
       "\n",
       "  artist_name  duration  num_songs             song_id  title  year  \n",
       "0     40 Grit  75.67628          1  SOGDBUF12A8C140FAA  Intro  2003  "
      ]
     },
     "execution_count": 9,
     "metadata": {},
     "output_type": "execute_result"
    }
   ],
   "source": [
    "df = pd.read_json(filepath, lines=True)\n",
    "df"
=======
   "execution_count": null,
   "metadata": {},
   "outputs": [],
   "source": [
    "df = \n",
    "df.head()"
>>>>>>> master
   ]
  },
  {
   "cell_type": "markdown",
<<<<<<< HEAD
   "metadata": {
    "editable": true
   },
=======
   "metadata": {},
>>>>>>> master
   "source": [
    "## #1: `songs` Table\n",
    "#### Extract Data for Songs Table\n",
    "- Select columns for song ID, title, artist ID, year, and duration\n",
    "- Use `df.values` to select just the values from the dataframe\n",
    "- Index to select the first (only) record in the dataframe\n",
    "- Convert the array to a list and set it to `song_data`"
   ]
  },
  {
   "cell_type": "code",
<<<<<<< HEAD
   "execution_count": 10,
   "metadata": {
    "editable": true
   },
   "outputs": [
    {
     "data": {
      "text/plain": [
       "['SOGDBUF12A8C140FAA', 'Intro', 'AR558FS1187FB45658', 2003, 75.67628]"
      ]
     },
     "execution_count": 10,
     "metadata": {},
     "output_type": "execute_result"
    }
   ],
   "source": [
    "song_columns = ['song_id', 'title', 'artist_id', 'year', 'duration']\n",
    "song_data = list(df[song_columns].values[0])\n",
    "\n",
=======
   "execution_count": null,
   "metadata": {},
   "outputs": [],
   "source": [
    "song_data = \n",
>>>>>>> master
    "song_data"
   ]
  },
  {
   "cell_type": "markdown",
<<<<<<< HEAD
   "metadata": {
    "editable": true
   },
=======
   "metadata": {},
>>>>>>> master
   "source": [
    "#### Insert Record into Song Table\n",
    "Implement the `song_table_insert` query in `sql_queries.py` and run the cell below to insert a record for this song into the `songs` table. Remember to run `create_tables.py` before running the cell below to ensure you've created/resetted the `songs` table in the sparkify database."
   ]
  },
  {
   "cell_type": "code",
<<<<<<< HEAD
   "execution_count": 11,
   "metadata": {
    "editable": true
   },
=======
   "execution_count": null,
   "metadata": {},
>>>>>>> master
   "outputs": [],
   "source": [
    "cur.execute(song_table_insert, song_data)\n",
    "conn.commit()"
   ]
  },
  {
   "cell_type": "markdown",
<<<<<<< HEAD
   "metadata": {
    "editable": true
   },
=======
   "metadata": {},
>>>>>>> master
   "source": [
    "Run `test.ipynb` to see if you've successfully added a record to this table."
   ]
  },
  {
   "cell_type": "markdown",
<<<<<<< HEAD
   "metadata": {
    "editable": true
   },
=======
   "metadata": {},
>>>>>>> master
   "source": [
    "## #2: `artists` Table\n",
    "#### Extract Data for Artists Table\n",
    "- Select columns for artist ID, name, location, latitude, and longitude\n",
    "- Use `df.values` to select just the values from the dataframe\n",
    "- Index to select the first (only) record in the dataframe\n",
    "- Convert the array to a list and set it to `artist_data`"
   ]
  },
  {
   "cell_type": "code",
<<<<<<< HEAD
   "execution_count": 12,
   "metadata": {
    "editable": true
   },
   "outputs": [
    {
     "data": {
      "text/html": [
       "<div>\n",
       "<style scoped>\n",
       "    .dataframe tbody tr th:only-of-type {\n",
       "        vertical-align: middle;\n",
       "    }\n",
       "\n",
       "    .dataframe tbody tr th {\n",
       "        vertical-align: top;\n",
       "    }\n",
       "\n",
       "    .dataframe thead th {\n",
       "        text-align: right;\n",
       "    }\n",
       "</style>\n",
       "<table border=\"1\" class=\"dataframe\">\n",
       "  <thead>\n",
       "    <tr style=\"text-align: right;\">\n",
       "      <th></th>\n",
       "      <th>artist_id</th>\n",
       "      <th>artist_latitude</th>\n",
       "      <th>artist_location</th>\n",
       "      <th>artist_longitude</th>\n",
       "      <th>artist_name</th>\n",
       "      <th>duration</th>\n",
       "      <th>num_songs</th>\n",
       "      <th>song_id</th>\n",
       "      <th>title</th>\n",
       "      <th>year</th>\n",
       "    </tr>\n",
       "  </thead>\n",
       "  <tbody>\n",
       "    <tr>\n",
       "      <th>0</th>\n",
       "      <td>AR558FS1187FB45658</td>\n",
       "      <td>NaN</td>\n",
       "      <td></td>\n",
       "      <td>NaN</td>\n",
       "      <td>40 Grit</td>\n",
       "      <td>75.67628</td>\n",
       "      <td>1</td>\n",
       "      <td>SOGDBUF12A8C140FAA</td>\n",
       "      <td>Intro</td>\n",
       "      <td>2003</td>\n",
       "    </tr>\n",
       "  </tbody>\n",
       "</table>\n",
       "</div>"
      ],
      "text/plain": [
       "            artist_id  artist_latitude artist_location  artist_longitude  \\\n",
       "0  AR558FS1187FB45658              NaN                               NaN   \n",
       "\n",
       "  artist_name  duration  num_songs             song_id  title  year  \n",
       "0     40 Grit  75.67628          1  SOGDBUF12A8C140FAA  Intro  2003  "
      ]
     },
     "execution_count": 12,
     "metadata": {},
     "output_type": "execute_result"
    }
   ],
   "source": [
    "df"
   ]
  },
  {
   "cell_type": "code",
   "execution_count": 13,
   "metadata": {
    "editable": true
   },
   "outputs": [
    {
     "data": {
      "text/plain": [
       "['AR558FS1187FB45658', '40 Grit', '', nan, nan]"
      ]
     },
     "execution_count": 13,
     "metadata": {},
     "output_type": "execute_result"
    }
   ],
   "source": [
    "artist_data = ['artist_id', 'artist_name', 'artist_location', 'artist_latitude', 'artist_longitude']\n",
    "\n",
    "artist_data = list(df[artist_data].values[0])\n",
=======
   "execution_count": null,
   "metadata": {},
   "outputs": [],
   "source": [
    "artist_data = \n",
>>>>>>> master
    "artist_data"
   ]
  },
  {
   "cell_type": "markdown",
<<<<<<< HEAD
   "metadata": {
    "editable": true
   },
=======
   "metadata": {},
>>>>>>> master
   "source": [
    "#### Insert Record into Artist Table\n",
    "Implement the `artist_table_insert` query in `sql_queries.py` and run the cell below to insert a record for this song's artist into the `artists` table. Remember to run `create_tables.py` before running the cell below to ensure you've created/resetted the `artists` table in the sparkify database."
   ]
  },
  {
   "cell_type": "code",
<<<<<<< HEAD
   "execution_count": 14,
   "metadata": {
    "editable": true
   },
=======
   "execution_count": null,
   "metadata": {},
>>>>>>> master
   "outputs": [],
   "source": [
    "cur.execute(artist_table_insert, artist_data)\n",
    "conn.commit()"
   ]
  },
  {
   "cell_type": "markdown",
<<<<<<< HEAD
   "metadata": {
    "editable": true
   },
=======
   "metadata": {},
>>>>>>> master
   "source": [
    "Run `test.ipynb` to see if you've successfully added a record to this table."
   ]
  },
  {
   "cell_type": "markdown",
<<<<<<< HEAD
   "metadata": {
    "editable": true
   },
=======
   "metadata": {},
>>>>>>> master
   "source": [
    "# Process `log_data`\n",
    "In this part, you'll perform ETL on the second dataset, `log_data`, to create the `time` and `users` dimensional tables, as well as the `songplays` fact table.\n",
    "\n",
    "Let's perform ETL on a single log file and load a single record into each table.\n",
    "- Use the `get_files` function provided above to get a list of all log JSON files in `data/log_data`\n",
    "- Select the first log file in this list\n",
    "- Read the log file and view the data"
   ]
  },
  {
   "cell_type": "code",
<<<<<<< HEAD
   "execution_count": 15,
   "metadata": {
    "editable": true
   },
   "outputs": [],
   "source": [
    "log_files = get_files(LOG_PATH)"
=======
   "execution_count": null,
   "metadata": {},
   "outputs": [],
   "source": [
    "log_files = "
>>>>>>> master
   ]
  },
  {
   "cell_type": "code",
<<<<<<< HEAD
   "execution_count": 16,
   "metadata": {
    "editable": true
   },
   "outputs": [
    {
     "data": {
      "text/plain": [
       "'/home/workspace/data/log_data/2018/11/2018-11-29-events.json'"
      ]
     },
     "execution_count": 16,
     "metadata": {},
     "output_type": "execute_result"
    }
   ],
   "source": [
    "filepath = log_files[0]\n",
    "filepath"
=======
   "execution_count": null,
   "metadata": {},
   "outputs": [],
   "source": [
    "filepath = "
>>>>>>> master
   ]
  },
  {
   "cell_type": "code",
<<<<<<< HEAD
   "execution_count": 17,
   "metadata": {
    "editable": true
   },
   "outputs": [
    {
     "data": {
      "text/html": [
       "<div>\n",
       "<style scoped>\n",
       "    .dataframe tbody tr th:only-of-type {\n",
       "        vertical-align: middle;\n",
       "    }\n",
       "\n",
       "    .dataframe tbody tr th {\n",
       "        vertical-align: top;\n",
       "    }\n",
       "\n",
       "    .dataframe thead th {\n",
       "        text-align: right;\n",
       "    }\n",
       "</style>\n",
       "<table border=\"1\" class=\"dataframe\">\n",
       "  <thead>\n",
       "    <tr style=\"text-align: right;\">\n",
       "      <th></th>\n",
       "      <th>artist</th>\n",
       "      <th>auth</th>\n",
       "      <th>firstName</th>\n",
       "      <th>gender</th>\n",
       "      <th>itemInSession</th>\n",
       "      <th>lastName</th>\n",
       "      <th>length</th>\n",
       "      <th>level</th>\n",
       "      <th>location</th>\n",
       "      <th>method</th>\n",
       "      <th>page</th>\n",
       "      <th>registration</th>\n",
       "      <th>sessionId</th>\n",
       "      <th>song</th>\n",
       "      <th>status</th>\n",
       "      <th>ts</th>\n",
       "      <th>userAgent</th>\n",
       "      <th>userId</th>\n",
       "    </tr>\n",
       "  </thead>\n",
       "  <tbody>\n",
       "    <tr>\n",
       "      <th>0</th>\n",
       "      <td>Sydney Youngblood</td>\n",
       "      <td>Logged In</td>\n",
       "      <td>Jacob</td>\n",
       "      <td>M</td>\n",
       "      <td>53</td>\n",
       "      <td>Klein</td>\n",
       "      <td>238.07955</td>\n",
       "      <td>paid</td>\n",
       "      <td>Tampa-St. Petersburg-Clearwater, FL</td>\n",
       "      <td>PUT</td>\n",
       "      <td>NextSong</td>\n",
       "      <td>1.540558e+12</td>\n",
       "      <td>954</td>\n",
       "      <td>Ain't No Sunshine</td>\n",
       "      <td>200</td>\n",
       "      <td>1543449657796</td>\n",
       "      <td>\"Mozilla/5.0 (Macintosh; Intel Mac OS X 10_9_4...</td>\n",
       "      <td>73</td>\n",
       "    </tr>\n",
       "    <tr>\n",
       "      <th>1</th>\n",
       "      <td>Gang Starr</td>\n",
       "      <td>Logged In</td>\n",
       "      <td>Layla</td>\n",
       "      <td>F</td>\n",
       "      <td>88</td>\n",
       "      <td>Griffin</td>\n",
       "      <td>151.92771</td>\n",
       "      <td>paid</td>\n",
       "      <td>Lake Havasu City-Kingman, AZ</td>\n",
       "      <td>PUT</td>\n",
       "      <td>NextSong</td>\n",
       "      <td>1.541057e+12</td>\n",
       "      <td>984</td>\n",
       "      <td>My Advice 2 You (Explicit)</td>\n",
       "      <td>200</td>\n",
       "      <td>1543449690796</td>\n",
       "      <td>\"Mozilla/5.0 (Windows NT 6.1; WOW64) AppleWebK...</td>\n",
       "      <td>24</td>\n",
       "    </tr>\n",
       "    <tr>\n",
       "      <th>2</th>\n",
       "      <td>3OH!3</td>\n",
       "      <td>Logged In</td>\n",
       "      <td>Layla</td>\n",
       "      <td>F</td>\n",
       "      <td>89</td>\n",
       "      <td>Griffin</td>\n",
       "      <td>192.52200</td>\n",
       "      <td>paid</td>\n",
       "      <td>Lake Havasu City-Kingman, AZ</td>\n",
       "      <td>PUT</td>\n",
       "      <td>NextSong</td>\n",
       "      <td>1.541057e+12</td>\n",
       "      <td>984</td>\n",
       "      <td>My First Kiss (Feat. Ke$ha) [Album Version]</td>\n",
       "      <td>200</td>\n",
       "      <td>1543449841796</td>\n",
       "      <td>\"Mozilla/5.0 (Windows NT 6.1; WOW64) AppleWebK...</td>\n",
       "      <td>24</td>\n",
       "    </tr>\n",
       "    <tr>\n",
       "      <th>3</th>\n",
       "      <td>RÃÂ¶yksopp</td>\n",
       "      <td>Logged In</td>\n",
       "      <td>Jacob</td>\n",
       "      <td>M</td>\n",
       "      <td>54</td>\n",
       "      <td>Klein</td>\n",
       "      <td>369.81506</td>\n",
       "      <td>paid</td>\n",
       "      <td>Tampa-St. Petersburg-Clearwater, FL</td>\n",
       "      <td>PUT</td>\n",
       "      <td>NextSong</td>\n",
       "      <td>1.540558e+12</td>\n",
       "      <td>954</td>\n",
       "      <td>The Girl and The Robot</td>\n",
       "      <td>200</td>\n",
       "      <td>1543449895796</td>\n",
       "      <td>\"Mozilla/5.0 (Macintosh; Intel Mac OS X 10_9_4...</td>\n",
       "      <td>73</td>\n",
       "    </tr>\n",
       "    <tr>\n",
       "      <th>4</th>\n",
       "      <td>Kajagoogoo</td>\n",
       "      <td>Logged In</td>\n",
       "      <td>Layla</td>\n",
       "      <td>F</td>\n",
       "      <td>90</td>\n",
       "      <td>Griffin</td>\n",
       "      <td>223.55546</td>\n",
       "      <td>paid</td>\n",
       "      <td>Lake Havasu City-Kingman, AZ</td>\n",
       "      <td>PUT</td>\n",
       "      <td>NextSong</td>\n",
       "      <td>1.541057e+12</td>\n",
       "      <td>984</td>\n",
       "      <td>Too Shy</td>\n",
       "      <td>200</td>\n",
       "      <td>1543450033796</td>\n",
       "      <td>\"Mozilla/5.0 (Windows NT 6.1; WOW64) AppleWebK...</td>\n",
       "      <td>24</td>\n",
       "    </tr>\n",
       "  </tbody>\n",
       "</table>\n",
       "</div>"
      ],
      "text/plain": [
       "              artist       auth firstName gender  itemInSession lastName  \\\n",
       "0  Sydney Youngblood  Logged In     Jacob      M             53    Klein   \n",
       "1         Gang Starr  Logged In     Layla      F             88  Griffin   \n",
       "2              3OH!3  Logged In     Layla      F             89  Griffin   \n",
       "3        RÃÂ¶yksopp  Logged In     Jacob      M             54    Klein   \n",
       "4         Kajagoogoo  Logged In     Layla      F             90  Griffin   \n",
       "\n",
       "      length level                             location method      page  \\\n",
       "0  238.07955  paid  Tampa-St. Petersburg-Clearwater, FL    PUT  NextSong   \n",
       "1  151.92771  paid         Lake Havasu City-Kingman, AZ    PUT  NextSong   \n",
       "2  192.52200  paid         Lake Havasu City-Kingman, AZ    PUT  NextSong   \n",
       "3  369.81506  paid  Tampa-St. Petersburg-Clearwater, FL    PUT  NextSong   \n",
       "4  223.55546  paid         Lake Havasu City-Kingman, AZ    PUT  NextSong   \n",
       "\n",
       "   registration  sessionId                                         song  \\\n",
       "0  1.540558e+12        954                            Ain't No Sunshine   \n",
       "1  1.541057e+12        984                   My Advice 2 You (Explicit)   \n",
       "2  1.541057e+12        984  My First Kiss (Feat. Ke$ha) [Album Version]   \n",
       "3  1.540558e+12        954                       The Girl and The Robot   \n",
       "4  1.541057e+12        984                                      Too Shy   \n",
       "\n",
       "   status             ts                                          userAgent  \\\n",
       "0     200  1543449657796  \"Mozilla/5.0 (Macintosh; Intel Mac OS X 10_9_4...   \n",
       "1     200  1543449690796  \"Mozilla/5.0 (Windows NT 6.1; WOW64) AppleWebK...   \n",
       "2     200  1543449841796  \"Mozilla/5.0 (Windows NT 6.1; WOW64) AppleWebK...   \n",
       "3     200  1543449895796  \"Mozilla/5.0 (Macintosh; Intel Mac OS X 10_9_4...   \n",
       "4     200  1543450033796  \"Mozilla/5.0 (Windows NT 6.1; WOW64) AppleWebK...   \n",
       "\n",
       "  userId  \n",
       "0     73  \n",
       "1     24  \n",
       "2     24  \n",
       "3     73  \n",
       "4     24  "
      ]
     },
     "execution_count": 17,
     "metadata": {},
     "output_type": "execute_result"
    }
   ],
   "source": [
    "df = pd.read_json(filepath, lines=True)\n",
=======
   "execution_count": null,
   "metadata": {},
   "outputs": [],
   "source": [
    "df = \n",
>>>>>>> master
    "df.head()"
   ]
  },
  {
   "cell_type": "markdown",
<<<<<<< HEAD
   "metadata": {
    "editable": true
   },
=======
   "metadata": {},
>>>>>>> master
   "source": [
    "## #3: `time` Table\n",
    "#### Extract Data for Time Table\n",
    "- Filter records by `NextSong` action\n",
    "- Convert the `ts` timestamp column to datetime\n",
    "  - Hint: the current timestamp is in milliseconds\n",
    "- Extract the timestamp, hour, day, week of year, month, year, and weekday from the `ts` column and set `time_data` to a list containing these values in order\n",
    "  - Hint: use pandas' [`dt` attribute](https://pandas.pydata.org/pandas-docs/stable/reference/api/pandas.Series.dt.html) to access easily datetimelike properties.\n",
    "- Specify labels for these columns and set to `column_labels`\n",
    "- Create a dataframe, `time_df,` containing the time data for this file by combining `column_labels` and `time_data` into a dictionary and converting this into a dataframe"
   ]
  },
  {
   "cell_type": "code",
<<<<<<< HEAD
   "execution_count": 18,
   "metadata": {
    "editable": true
   },
   "outputs": [
    {
     "data": {
      "text/html": [
       "<div>\n",
       "<style scoped>\n",
       "    .dataframe tbody tr th:only-of-type {\n",
       "        vertical-align: middle;\n",
       "    }\n",
       "\n",
       "    .dataframe tbody tr th {\n",
       "        vertical-align: top;\n",
       "    }\n",
       "\n",
       "    .dataframe thead th {\n",
       "        text-align: right;\n",
       "    }\n",
       "</style>\n",
       "<table border=\"1\" class=\"dataframe\">\n",
       "  <thead>\n",
       "    <tr style=\"text-align: right;\">\n",
       "      <th></th>\n",
       "      <th>artist</th>\n",
       "      <th>auth</th>\n",
       "      <th>firstName</th>\n",
       "      <th>gender</th>\n",
       "      <th>itemInSession</th>\n",
       "      <th>lastName</th>\n",
       "      <th>length</th>\n",
       "      <th>level</th>\n",
       "      <th>location</th>\n",
       "      <th>method</th>\n",
       "      <th>page</th>\n",
       "      <th>registration</th>\n",
       "      <th>sessionId</th>\n",
       "      <th>song</th>\n",
       "      <th>status</th>\n",
       "      <th>ts</th>\n",
       "      <th>userAgent</th>\n",
       "      <th>userId</th>\n",
       "    </tr>\n",
       "  </thead>\n",
       "  <tbody>\n",
       "    <tr>\n",
       "      <th>0</th>\n",
       "      <td>Sydney Youngblood</td>\n",
       "      <td>Logged In</td>\n",
       "      <td>Jacob</td>\n",
       "      <td>M</td>\n",
       "      <td>53</td>\n",
       "      <td>Klein</td>\n",
       "      <td>238.07955</td>\n",
       "      <td>paid</td>\n",
       "      <td>Tampa-St. Petersburg-Clearwater, FL</td>\n",
       "      <td>PUT</td>\n",
       "      <td>NextSong</td>\n",
       "      <td>1.540558e+12</td>\n",
       "      <td>954</td>\n",
       "      <td>Ain't No Sunshine</td>\n",
       "      <td>200</td>\n",
       "      <td>1543449657796</td>\n",
       "      <td>\"Mozilla/5.0 (Macintosh; Intel Mac OS X 10_9_4...</td>\n",
       "      <td>73</td>\n",
       "    </tr>\n",
       "    <tr>\n",
       "      <th>1</th>\n",
       "      <td>Gang Starr</td>\n",
       "      <td>Logged In</td>\n",
       "      <td>Layla</td>\n",
       "      <td>F</td>\n",
       "      <td>88</td>\n",
       "      <td>Griffin</td>\n",
       "      <td>151.92771</td>\n",
       "      <td>paid</td>\n",
       "      <td>Lake Havasu City-Kingman, AZ</td>\n",
       "      <td>PUT</td>\n",
       "      <td>NextSong</td>\n",
       "      <td>1.541057e+12</td>\n",
       "      <td>984</td>\n",
       "      <td>My Advice 2 You (Explicit)</td>\n",
       "      <td>200</td>\n",
       "      <td>1543449690796</td>\n",
       "      <td>\"Mozilla/5.0 (Windows NT 6.1; WOW64) AppleWebK...</td>\n",
       "      <td>24</td>\n",
       "    </tr>\n",
       "    <tr>\n",
       "      <th>2</th>\n",
       "      <td>3OH!3</td>\n",
       "      <td>Logged In</td>\n",
       "      <td>Layla</td>\n",
       "      <td>F</td>\n",
       "      <td>89</td>\n",
       "      <td>Griffin</td>\n",
       "      <td>192.52200</td>\n",
       "      <td>paid</td>\n",
       "      <td>Lake Havasu City-Kingman, AZ</td>\n",
       "      <td>PUT</td>\n",
       "      <td>NextSong</td>\n",
       "      <td>1.541057e+12</td>\n",
       "      <td>984</td>\n",
       "      <td>My First Kiss (Feat. Ke$ha) [Album Version]</td>\n",
       "      <td>200</td>\n",
       "      <td>1543449841796</td>\n",
       "      <td>\"Mozilla/5.0 (Windows NT 6.1; WOW64) AppleWebK...</td>\n",
       "      <td>24</td>\n",
       "    </tr>\n",
       "    <tr>\n",
       "      <th>3</th>\n",
       "      <td>RÃÂ¶yksopp</td>\n",
       "      <td>Logged In</td>\n",
       "      <td>Jacob</td>\n",
       "      <td>M</td>\n",
       "      <td>54</td>\n",
       "      <td>Klein</td>\n",
       "      <td>369.81506</td>\n",
       "      <td>paid</td>\n",
       "      <td>Tampa-St. Petersburg-Clearwater, FL</td>\n",
       "      <td>PUT</td>\n",
       "      <td>NextSong</td>\n",
       "      <td>1.540558e+12</td>\n",
       "      <td>954</td>\n",
       "      <td>The Girl and The Robot</td>\n",
       "      <td>200</td>\n",
       "      <td>1543449895796</td>\n",
       "      <td>\"Mozilla/5.0 (Macintosh; Intel Mac OS X 10_9_4...</td>\n",
       "      <td>73</td>\n",
       "    </tr>\n",
       "    <tr>\n",
       "      <th>4</th>\n",
       "      <td>Kajagoogoo</td>\n",
       "      <td>Logged In</td>\n",
       "      <td>Layla</td>\n",
       "      <td>F</td>\n",
       "      <td>90</td>\n",
       "      <td>Griffin</td>\n",
       "      <td>223.55546</td>\n",
       "      <td>paid</td>\n",
       "      <td>Lake Havasu City-Kingman, AZ</td>\n",
       "      <td>PUT</td>\n",
       "      <td>NextSong</td>\n",
       "      <td>1.541057e+12</td>\n",
       "      <td>984</td>\n",
       "      <td>Too Shy</td>\n",
       "      <td>200</td>\n",
       "      <td>1543450033796</td>\n",
       "      <td>\"Mozilla/5.0 (Windows NT 6.1; WOW64) AppleWebK...</td>\n",
       "      <td>24</td>\n",
       "    </tr>\n",
       "  </tbody>\n",
       "</table>\n",
       "</div>"
      ],
      "text/plain": [
       "              artist       auth firstName gender  itemInSession lastName  \\\n",
       "0  Sydney Youngblood  Logged In     Jacob      M             53    Klein   \n",
       "1         Gang Starr  Logged In     Layla      F             88  Griffin   \n",
       "2              3OH!3  Logged In     Layla      F             89  Griffin   \n",
       "3        RÃÂ¶yksopp  Logged In     Jacob      M             54    Klein   \n",
       "4         Kajagoogoo  Logged In     Layla      F             90  Griffin   \n",
       "\n",
       "      length level                             location method      page  \\\n",
       "0  238.07955  paid  Tampa-St. Petersburg-Clearwater, FL    PUT  NextSong   \n",
       "1  151.92771  paid         Lake Havasu City-Kingman, AZ    PUT  NextSong   \n",
       "2  192.52200  paid         Lake Havasu City-Kingman, AZ    PUT  NextSong   \n",
       "3  369.81506  paid  Tampa-St. Petersburg-Clearwater, FL    PUT  NextSong   \n",
       "4  223.55546  paid         Lake Havasu City-Kingman, AZ    PUT  NextSong   \n",
       "\n",
       "   registration  sessionId                                         song  \\\n",
       "0  1.540558e+12        954                            Ain't No Sunshine   \n",
       "1  1.541057e+12        984                   My Advice 2 You (Explicit)   \n",
       "2  1.541057e+12        984  My First Kiss (Feat. Ke$ha) [Album Version]   \n",
       "3  1.540558e+12        954                       The Girl and The Robot   \n",
       "4  1.541057e+12        984                                      Too Shy   \n",
       "\n",
       "   status             ts                                          userAgent  \\\n",
       "0     200  1543449657796  \"Mozilla/5.0 (Macintosh; Intel Mac OS X 10_9_4...   \n",
       "1     200  1543449690796  \"Mozilla/5.0 (Windows NT 6.1; WOW64) AppleWebK...   \n",
       "2     200  1543449841796  \"Mozilla/5.0 (Windows NT 6.1; WOW64) AppleWebK...   \n",
       "3     200  1543449895796  \"Mozilla/5.0 (Macintosh; Intel Mac OS X 10_9_4...   \n",
       "4     200  1543450033796  \"Mozilla/5.0 (Windows NT 6.1; WOW64) AppleWebK...   \n",
       "\n",
       "  userId  \n",
       "0     73  \n",
       "1     24  \n",
       "2     24  \n",
       "3     73  \n",
       "4     24  "
      ]
     },
     "execution_count": 18,
     "metadata": {},
     "output_type": "execute_result"
    }
   ],
   "source": [
    "df = df.query(\"page == 'NextSong'\")\n",
=======
   "execution_count": null,
   "metadata": {},
   "outputs": [],
   "source": [
    "df = \n",
>>>>>>> master
    "df.head()"
   ]
  },
  {
   "cell_type": "code",
<<<<<<< HEAD
   "execution_count": 19,
   "metadata": {
    "editable": true
   },
   "outputs": [
    {
     "data": {
      "text/plain": [
       "0   2018-11-29 00:00:57\n",
       "1   2018-11-29 00:01:30\n",
       "2   2018-11-29 00:04:01\n",
       "3   2018-11-29 00:04:55\n",
       "4   2018-11-29 00:07:13\n",
       "Name: ts, dtype: datetime64[ns]"
      ]
     },
     "execution_count": 19,
     "metadata": {},
     "output_type": "execute_result"
    }
   ],
   "source": [
    "t = pd.to_datetime(df.ts, unit='ms', exact=True).astype('datetime64[s]')\n",
=======
   "execution_count": null,
   "metadata": {},
   "outputs": [],
   "source": [
    "t = \n",
>>>>>>> master
    "t.head()"
   ]
  },
  {
   "cell_type": "code",
<<<<<<< HEAD
   "execution_count": 20,
   "metadata": {
    "editable": true
   },
   "outputs": [],
   "source": [
    "time_data = (t, t.dt.hour, t.dt.day, t.dt.week, t.dt.month, t.dt.year, t.dt.weekday)\n",
    "column_labels = ('start_time', 'hour', 'day', 'week', 'month', 'year', 'weekday')"
=======
   "execution_count": null,
   "metadata": {},
   "outputs": [],
   "source": [
    "time_data = ()\n",
    "column_labels = ()"
>>>>>>> master
   ]
  },
  {
   "cell_type": "code",
<<<<<<< HEAD
   "execution_count": 21,
   "metadata": {
    "editable": true
   },
   "outputs": [
    {
     "data": {
      "text/html": [
       "<div>\n",
       "<style scoped>\n",
       "    .dataframe tbody tr th:only-of-type {\n",
       "        vertical-align: middle;\n",
       "    }\n",
       "\n",
       "    .dataframe tbody tr th {\n",
       "        vertical-align: top;\n",
       "    }\n",
       "\n",
       "    .dataframe thead th {\n",
       "        text-align: right;\n",
       "    }\n",
       "</style>\n",
       "<table border=\"1\" class=\"dataframe\">\n",
       "  <thead>\n",
       "    <tr style=\"text-align: right;\">\n",
       "      <th></th>\n",
       "      <th>start_time</th>\n",
       "      <th>hour</th>\n",
       "      <th>day</th>\n",
       "      <th>week</th>\n",
       "      <th>month</th>\n",
       "      <th>year</th>\n",
       "      <th>weekday</th>\n",
       "    </tr>\n",
       "  </thead>\n",
       "  <tbody>\n",
       "    <tr>\n",
       "      <th>0</th>\n",
       "      <td>2018-11-29 00:00:57</td>\n",
       "      <td>0</td>\n",
       "      <td>29</td>\n",
       "      <td>48</td>\n",
       "      <td>11</td>\n",
       "      <td>2018</td>\n",
       "      <td>3</td>\n",
       "    </tr>\n",
       "    <tr>\n",
       "      <th>1</th>\n",
       "      <td>2018-11-29 00:01:30</td>\n",
       "      <td>0</td>\n",
       "      <td>29</td>\n",
       "      <td>48</td>\n",
       "      <td>11</td>\n",
       "      <td>2018</td>\n",
       "      <td>3</td>\n",
       "    </tr>\n",
       "    <tr>\n",
       "      <th>2</th>\n",
       "      <td>2018-11-29 00:04:01</td>\n",
       "      <td>0</td>\n",
       "      <td>29</td>\n",
       "      <td>48</td>\n",
       "      <td>11</td>\n",
       "      <td>2018</td>\n",
       "      <td>3</td>\n",
       "    </tr>\n",
       "    <tr>\n",
       "      <th>3</th>\n",
       "      <td>2018-11-29 00:04:55</td>\n",
       "      <td>0</td>\n",
       "      <td>29</td>\n",
       "      <td>48</td>\n",
       "      <td>11</td>\n",
       "      <td>2018</td>\n",
       "      <td>3</td>\n",
       "    </tr>\n",
       "    <tr>\n",
       "      <th>4</th>\n",
       "      <td>2018-11-29 00:07:13</td>\n",
       "      <td>0</td>\n",
       "      <td>29</td>\n",
       "      <td>48</td>\n",
       "      <td>11</td>\n",
       "      <td>2018</td>\n",
       "      <td>3</td>\n",
       "    </tr>\n",
       "  </tbody>\n",
       "</table>\n",
       "</div>"
      ],
      "text/plain": [
       "           start_time  hour  day  week  month  year  weekday\n",
       "0 2018-11-29 00:00:57     0   29    48     11  2018        3\n",
       "1 2018-11-29 00:01:30     0   29    48     11  2018        3\n",
       "2 2018-11-29 00:04:01     0   29    48     11  2018        3\n",
       "3 2018-11-29 00:04:55     0   29    48     11  2018        3\n",
       "4 2018-11-29 00:07:13     0   29    48     11  2018        3"
      ]
     },
     "execution_count": 21,
     "metadata": {},
     "output_type": "execute_result"
    }
   ],
   "source": [
    "time_df = pd.DataFrame(dict(zip(column_labels, time_data)))\n",
=======
   "execution_count": null,
   "metadata": {},
   "outputs": [],
   "source": [
    "time_df = \n",
>>>>>>> master
    "time_df.head()"
   ]
  },
  {
   "cell_type": "markdown",
<<<<<<< HEAD
   "metadata": {
    "editable": true
   },
=======
   "metadata": {},
>>>>>>> master
   "source": [
    "#### Insert Records into Time Table\n",
    "Implement the `time_table_insert` query in `sql_queries.py` and run the cell below to insert records for the timestamps in this log file into the `time` table. Remember to run `create_tables.py` before running the cell below to ensure you've created/resetted the `time` table in the sparkify database."
   ]
  },
  {
   "cell_type": "code",
<<<<<<< HEAD
   "execution_count": 22,
   "metadata": {
    "editable": true
   },
=======
   "execution_count": null,
   "metadata": {},
>>>>>>> master
   "outputs": [],
   "source": [
    "for i, row in time_df.iterrows():\n",
    "    cur.execute(time_table_insert, list(row))\n",
    "    conn.commit()"
   ]
  },
  {
   "cell_type": "markdown",
<<<<<<< HEAD
   "metadata": {
    "editable": true
   },
=======
   "metadata": {},
>>>>>>> master
   "source": [
    "Run `test.ipynb` to see if you've successfully added records to this table."
   ]
  },
  {
   "cell_type": "markdown",
<<<<<<< HEAD
   "metadata": {
    "editable": true
   },
=======
   "metadata": {},
>>>>>>> master
   "source": [
    "## #4: `users` Table\n",
    "#### Extract Data for Users Table\n",
    "- Select columns for user ID, first name, last name, gender and level and set to `user_df`"
   ]
  },
  {
   "cell_type": "code",
<<<<<<< HEAD
   "execution_count": 24,
   "metadata": {
    "editable": true
   },
   "outputs": [],
   "source": [
    "user_columns = ['userId', 'firstName', 'lastName', 'gender', 'level']\n",
    "user_df = df[user_columns].drop_duplicates(subset=['userId'], keep='first')"
=======
   "execution_count": null,
   "metadata": {},
   "outputs": [],
   "source": [
    "user_df = "
>>>>>>> master
   ]
  },
  {
   "cell_type": "markdown",
<<<<<<< HEAD
   "metadata": {
    "editable": true
   },
=======
   "metadata": {},
>>>>>>> master
   "source": [
    "#### Insert Records into Users Table\n",
    "Implement the `user_table_insert` query in `sql_queries.py` and run the cell below to insert records for the users in this log file into the `users` table. Remember to run `create_tables.py` before running the cell below to ensure you've created/resetted the `users` table in the sparkify database."
   ]
  },
  {
   "cell_type": "code",
<<<<<<< HEAD
   "execution_count": 25,
   "metadata": {
    "editable": true
   },
=======
   "execution_count": null,
   "metadata": {},
>>>>>>> master
   "outputs": [],
   "source": [
    "for i, row in user_df.iterrows():\n",
    "    cur.execute(user_table_insert, row)\n",
    "    conn.commit()"
   ]
  },
  {
   "cell_type": "markdown",
<<<<<<< HEAD
   "metadata": {
    "editable": true
   },
=======
   "metadata": {},
>>>>>>> master
   "source": [
    "Run `test.ipynb` to see if you've successfully added records to this table."
   ]
  },
  {
   "cell_type": "markdown",
<<<<<<< HEAD
   "metadata": {
    "editable": true
   },
=======
   "metadata": {},
>>>>>>> master
   "source": [
    "## #5: `songplays` Table\n",
    "#### Extract Data and Songplays Table\n",
    "This one is a little more complicated since information from the songs table, artists table, and original log file are all needed for the `songplays` table. Since the log file does not specify an ID for either the song or the artist, you'll need to get the song ID and artist ID by querying the songs and artists tables to find matches based on song title, artist name, and song duration time.\n",
    "- Implement the `song_select` query in `sql_queries.py` to find the song ID and artist ID based on the title, artist name, and duration of a song.\n",
    "- Select the timestamp, user ID, level, song ID, artist ID, session ID, location, and user agent and set to `songplay_data`\n",
    "\n",
    "#### Insert Records into Songplays Table\n",
    "- Implement the `songplay_table_insert` query and run the cell below to insert records for the songplay actions in this log file into the `songplays` table. Remember to run `create_tables.py` before running the cell below to ensure you've created/resetted the `songplays` table in the sparkify database."
   ]
  },
  {
   "cell_type": "code",
   "execution_count": null,
<<<<<<< HEAD
   "metadata": {
    "editable": true
   },
   "outputs": [],
   "source": [
    "df.duration"
   ]
  },
  {
   "cell_type": "code",
   "execution_count": 27,
   "metadata": {
    "editable": true
   },
   "outputs": [
    {
     "name": "stdout",
     "output_type": "stream",
     "text": [
      "2018-11-29 00:00:57\n",
      "2018-11-29 00:01:30\n",
      "2018-11-29 00:04:01\n",
      "2018-11-29 00:04:55\n",
      "2018-11-29 00:07:13\n",
      "2018-11-29 00:10:56\n",
      "2018-11-29 00:11:04\n",
      "2018-11-29 00:14:10\n",
      "2018-11-29 00:16:02\n",
      "2018-11-29 00:18:11\n",
      "2018-11-29 00:22:13\n",
      "2018-11-29 00:26:15\n",
      "2018-11-29 00:30:53\n",
      "2018-11-29 00:35:07\n",
      "2018-11-29 00:40:14\n",
      "2018-11-29 00:44:13\n",
      "2018-11-29 00:46:34\n",
      "2018-11-29 00:49:48\n",
      "2018-11-29 00:57:10\n",
      "2018-11-29 01:02:12\n",
      "2018-11-29 01:06:36\n",
      "2018-11-29 01:09:23\n",
      "2018-11-29 01:09:58\n",
      "2018-11-29 01:13:57\n",
      "2018-11-29 01:17:34\n",
      "2018-11-29 01:22:13\n",
      "2018-11-29 01:26:18\n",
      "2018-11-29 01:31:13\n",
      "2018-11-29 01:33:38\n",
      "2018-11-29 01:38:30\n",
      "2018-11-29 01:42:27\n",
      "2018-11-29 01:46:50\n",
      "2018-11-29 01:52:26\n",
      "2018-11-29 01:55:17\n",
      "2018-11-29 02:24:31\n",
      "2018-11-29 02:28:05\n",
      "2018-11-29 02:31:11\n",
      "2018-11-29 02:36:13\n",
      "2018-11-29 02:40:10\n",
      "2018-11-29 02:57:57\n",
      "2018-11-29 03:00:42\n",
      "2018-11-29 03:07:15\n",
      "2018-11-29 04:27:16\n",
      "2018-11-29 04:31:53\n",
      "2018-11-29 04:55:55\n",
      "2018-11-29 05:00:08\n",
      "2018-11-29 08:18:42\n",
      "2018-11-29 08:23:09\n",
      "2018-11-29 10:59:27\n",
      "2018-11-29 11:03:12\n",
      "2018-11-29 11:03:31\n",
      "2018-11-29 11:07:19\n",
      "2018-11-29 11:10:57\n",
      "2018-11-29 12:21:07\n",
      "2018-11-29 13:14:11\n",
      "2018-11-29 13:58:27\n",
      "2018-11-29 14:01:21\n",
      "2018-11-29 14:05:13\n",
      "2018-11-29 14:10:08\n",
      "2018-11-29 14:14:04\n",
      "2018-11-29 14:17:50\n",
      "2018-11-29 14:22:14\n",
      "2018-11-29 14:26:23\n",
      "2018-11-29 14:32:31\n",
      "2018-11-29 14:35:44\n",
      "2018-11-29 14:40:36\n",
      "2018-11-29 14:43:29\n",
      "2018-11-29 14:47:47\n",
      "2018-11-29 14:51:12\n",
      "2018-11-29 14:55:45\n",
      "2018-11-29 14:57:52\n",
      "2018-11-29 15:02:51\n",
      "2018-11-29 15:05:49\n",
      "2018-11-29 15:06:52\n",
      "2018-11-29 15:09:44\n",
      "2018-11-29 15:11:08\n",
      "2018-11-29 15:11:35\n",
      "2018-11-29 15:11:47\n",
      "2018-11-29 15:12:48\n",
      "2018-11-29 15:14:34\n",
      "2018-11-29 15:15:28\n",
      "2018-11-29 15:15:36\n",
      "2018-11-29 15:16:13\n",
      "2018-11-29 15:18:58\n",
      "2018-11-29 15:19:32\n",
      "2018-11-29 15:20:30\n",
      "2018-11-29 15:20:39\n",
      "2018-11-29 15:22:38\n",
      "2018-11-29 15:24:15\n",
      "2018-11-29 15:26:40\n",
      "2018-11-29 15:27:01\n",
      "2018-11-29 15:27:37\n",
      "2018-11-29 15:29:41\n",
      "2018-11-29 15:30:01\n",
      "2018-11-29 15:30:57\n",
      "2018-11-29 15:33:38\n",
      "2018-11-29 15:34:16\n",
      "2018-11-29 15:36:32\n",
      "2018-11-29 15:37:16\n",
      "2018-11-29 15:39:39\n",
      "2018-11-29 15:41:17\n",
      "2018-11-29 15:41:57\n",
      "2018-11-29 15:45:38\n",
      "2018-11-29 15:45:41\n",
      "2018-11-29 15:49:16\n",
      "2018-11-29 15:49:38\n",
      "2018-11-29 15:53:39\n",
      "2018-11-29 15:54:12\n",
      "2018-11-29 15:57:35\n",
      "2018-11-29 15:57:55\n",
      "2018-11-29 16:00:01\n",
      "2018-11-29 16:00:53\n",
      "2018-11-29 16:04:06\n",
      "2018-11-29 16:05:40\n",
      "2018-11-29 16:07:07\n",
      "2018-11-29 16:09:11\n",
      "2018-11-29 16:09:24\n",
      "2018-11-29 16:11:29\n",
      "2018-11-29 16:13:23\n",
      "2018-11-29 16:15:34\n",
      "2018-11-29 16:18:25\n",
      "2018-11-29 16:19:30\n",
      "2018-11-29 16:22:24\n",
      "2018-11-29 16:23:27\n",
      "2018-11-29 16:26:21\n",
      "2018-11-29 16:28:12\n",
      "2018-11-29 16:30:05\n",
      "2018-11-29 16:31:19\n",
      "2018-11-29 16:34:03\n",
      "2018-11-29 16:36:45\n",
      "2018-11-29 16:38:29\n",
      "2018-11-29 16:40:32\n",
      "2018-11-29 16:41:33\n",
      "2018-11-29 16:41:37\n",
      "2018-11-29 16:44:39\n",
      "2018-11-29 16:45:38\n",
      "2018-11-29 16:47:38\n",
      "2018-11-29 16:47:42\n",
      "2018-11-29 16:49:25\n",
      "2018-11-29 16:50:16\n",
      "2018-11-29 16:54:22\n",
      "2018-11-29 16:54:27\n",
      "2018-11-29 16:54:41\n",
      "2018-11-29 16:55:14\n",
      "2018-11-29 16:58:01\n",
      "2018-11-29 16:58:03\n",
      "2018-11-29 16:58:11\n",
      "2018-11-29 17:01:21\n",
      "2018-11-29 17:01:34\n",
      "2018-11-29 17:01:41\n",
      "2018-11-29 17:01:49\n",
      "2018-11-29 17:05:10\n",
      "2018-11-29 17:05:20\n",
      "2018-11-29 17:05:26\n",
      "2018-11-29 17:06:16\n",
      "2018-11-29 17:06:48\n",
      "2018-11-29 17:09:13\n",
      "2018-11-29 17:09:14\n",
      "2018-11-29 17:10:14\n",
      "2018-11-29 17:12:34\n",
      "2018-11-29 17:13:55\n",
      "2018-11-29 17:14:22\n",
      "2018-11-29 17:16:11\n",
      "2018-11-29 17:18:01\n",
      "2018-11-29 17:18:33\n",
      "2018-11-29 17:19:26\n",
      "2018-11-29 17:22:01\n",
      "2018-11-29 17:22:27\n",
      "2018-11-29 17:23:01\n",
      "2018-11-29 17:24:32\n",
      "2018-11-29 17:25:44\n",
      "2018-11-29 17:27:23\n",
      "2018-11-29 17:28:38\n",
      "2018-11-29 17:31:27\n",
      "2018-11-29 17:32:00\n",
      "2018-11-29 17:33:22\n",
      "2018-11-29 17:35:29\n",
      "2018-11-29 17:39:31\n",
      "2018-11-29 17:39:48\n",
      "2018-11-29 17:41:02\n",
      "2018-11-29 17:41:54\n",
      "2018-11-29 17:43:21\n",
      "2018-11-29 17:45:34\n",
      "2018-11-29 17:45:51\n",
      "2018-11-29 17:48:25\n",
      "2018-11-29 17:49:47\n",
      "2018-11-29 17:50:11\n",
      "2018-11-29 17:51:12\n",
      "2018-11-29 17:52:18\n",
      "2018-11-29 17:53:45\n",
      "2018-11-29 17:55:54\n",
      "2018-11-29 17:56:29\n",
      "2018-11-29 17:58:58\n",
      "2018-11-29 17:59:53\n",
      "2018-11-29 18:01:37\n",
      "2018-11-29 18:03:18\n",
      "2018-11-29 18:03:38\n",
      "2018-11-29 18:05:39\n",
      "2018-11-29 18:07:55\n",
      "2018-11-29 18:07:57\n",
      "2018-11-29 18:09:01\n",
      "2018-11-29 18:11:00\n",
      "2018-11-29 18:12:55\n",
      "2018-11-29 18:13:02\n",
      "2018-11-29 18:13:45\n",
      "2018-11-29 18:14:44\n",
      "2018-11-29 18:17:33\n",
      "2018-11-29 18:18:09\n",
      "2018-11-29 18:21:12\n",
      "2018-11-29 18:21:24\n",
      "2018-11-29 18:21:52\n",
      "2018-11-29 18:24:29\n",
      "2018-11-29 18:24:38\n",
      "2018-11-29 18:26:27\n",
      "2018-11-29 18:26:53\n",
      "2018-11-29 18:27:24\n",
      "2018-11-29 18:28:34\n",
      "2018-11-29 18:29:50\n",
      "2018-11-29 18:30:15\n",
      "2018-11-29 18:33:04\n",
      "2018-11-29 18:33:35\n",
      "2018-11-29 18:37:25\n",
      "2018-11-29 18:37:53\n",
      "2018-11-29 18:41:09\n",
      "2018-11-29 18:43:31\n",
      "2018-11-29 18:46:10\n",
      "2018-11-29 18:47:30\n",
      "2018-11-29 18:50:54\n",
      "2018-11-29 18:52:00\n",
      "2018-11-29 18:55:24\n",
      "2018-11-29 18:55:30\n",
      "2018-11-29 18:58:33\n",
      "2018-11-29 19:00:17\n",
      "2018-11-29 19:01:40\n",
      "2018-11-29 19:03:58\n",
      "2018-11-29 19:04:44\n",
      "2018-11-29 19:06:24\n",
      "2018-11-29 19:08:41\n",
      "2018-11-29 19:09:47\n",
      "2018-11-29 19:11:39\n",
      "2018-11-29 19:13:04\n",
      "2018-11-29 19:14:56\n",
      "2018-11-29 19:15:33\n",
      "2018-11-29 19:20:07\n",
      "2018-11-29 19:24:39\n",
      "2018-11-29 19:26:31\n",
      "2018-11-29 19:37:26\n",
      "2018-11-29 19:40:17\n",
      "2018-11-29 19:45:18\n",
      "2018-11-29 20:06:02\n",
      "2018-11-29 20:08:58\n",
      "2018-11-29 20:11:07\n",
      "2018-11-29 20:14:33\n",
      "2018-11-29 20:18:35\n",
      "2018-11-29 20:21:41\n",
      "2018-11-29 20:25:19\n",
      "2018-11-29 20:29:23\n",
      "2018-11-29 20:34:33\n",
      "2018-11-29 20:38:41\n",
      "2018-11-29 20:39:10\n",
      "2018-11-29 20:43:06\n",
      "2018-11-29 20:43:07\n",
      "2018-11-29 20:46:47\n",
      "2018-11-29 20:46:54\n",
      "2018-11-29 20:51:10\n",
      "2018-11-29 20:52:05\n",
      "2018-11-29 20:54:07\n",
      "2018-11-29 20:54:41\n",
      "2018-11-29 20:58:44\n",
      "2018-11-29 21:00:03\n",
      "2018-11-29 21:01:07\n",
      "2018-11-29 21:03:20\n",
      "2018-11-29 21:06:03\n",
      "2018-11-29 21:06:35\n",
      "2018-11-29 21:09:20\n",
      "2018-11-29 21:12:56\n",
      "2018-11-29 21:14:16\n",
      "2018-11-29 21:14:49\n",
      "2018-11-29 21:16:53\n",
      "2018-11-29 21:17:30\n",
      "2018-11-29 21:19:18\n",
      "2018-11-29 21:20:57\n",
      "2018-11-29 21:21:47\n",
      "2018-11-29 21:22:18\n",
      "2018-11-29 21:24:03\n",
      "2018-11-29 21:24:35\n",
      "2018-11-29 21:27:00\n",
      "2018-11-29 21:27:48\n",
      "2018-11-29 21:27:50\n",
      "2018-11-29 21:30:47\n",
      "2018-11-29 21:31:34\n",
      "2018-11-29 21:34:25\n",
      "2018-11-29 21:34:28\n",
      "2018-11-29 21:38:08\n",
      "2018-11-29 21:42:10\n",
      "2018-11-29 21:46:49\n",
      "2018-11-29 21:52:57\n",
      "2018-11-29 21:57:16\n",
      "2018-11-29 22:00:31\n",
      "2018-11-29 22:06:36\n",
      "2018-11-29 22:09:57\n",
      "2018-11-29 22:10:17\n",
      "2018-11-29 22:13:15\n",
      "2018-11-29 22:13:38\n",
      "2018-11-29 22:17:38\n",
      "2018-11-29 22:21:31\n",
      "2018-11-29 22:27:31\n",
      "2018-11-29 22:32:49\n",
      "2018-11-29 22:35:44\n",
      "2018-11-29 22:39:38\n",
      "2018-11-29 22:42:52\n",
      "2018-11-29 22:46:23\n",
      "2018-11-29 22:50:27\n",
      "2018-11-29 22:51:18\n",
      "2018-11-29 22:53:32\n",
      "2018-11-29 22:57:22\n",
      "2018-11-29 23:02:05\n",
      "2018-11-29 23:05:13\n",
      "2018-11-29 23:18:35\n"
     ]
    }
   ],
   "source": [
    "from datetime import datetime\n",
    "for index, row in df.iterrows():\n",
    "\n",
    "    # get songid and artistid from song and artist tables\n",
    "    cur.execute(song_select, (row.song, row.artist, row.length))\n",
    "    results = cur.fetchone()\n",
    "    if results:\n",
    "        songid, artistid = results\n",
    "    else:\n",
    "        songid, artistid = None, None\n",
    "\n",
    "    # insert songplay record\n",
    "    date = pd.to_datetime(df.ts, unit='ms', exact=True).astype('datetime64[s]')\n",
    "    print(date[index])\n",
    "    songplay_data = (index, date[index], row.userId, row.level, songid, artistid,\n",
    "                    row.sessionId, row.location, row.userAgent)\n",
=======
   "metadata": {},
   "outputs": [],
   "source": [
    "for index, row in df.iterrows():\n",
    "\n",
    "    # get songid and artistid from song and artist tables\n",
    "    results = cur.execute(song_select, (row.song, row.artist, row.length))\n",
    "    songid, artistid = results if results else None, None\n",
    "\n",
    "    # insert songplay record\n",
    "    songplay_data = ()\n",
>>>>>>> master
    "    cur.execute(songplay_table_insert, songplay_data)\n",
    "    conn.commit()"
   ]
  },
  {
   "cell_type": "markdown",
<<<<<<< HEAD
   "metadata": {
    "editable": true
   },
=======
   "metadata": {},
>>>>>>> master
   "source": [
    "Run `test.ipynb` to see if you've successfully added records to this table."
   ]
  },
  {
   "cell_type": "markdown",
<<<<<<< HEAD
   "metadata": {
    "editable": true
   },
=======
   "metadata": {},
>>>>>>> master
   "source": [
    "# Close Connection to Sparkify Database"
   ]
  },
  {
   "cell_type": "code",
<<<<<<< HEAD
   "execution_count": 74,
   "metadata": {
    "editable": true
   },
=======
   "execution_count": null,
   "metadata": {},
>>>>>>> master
   "outputs": [],
   "source": [
    "conn.close()"
   ]
  },
  {
   "cell_type": "markdown",
<<<<<<< HEAD
   "metadata": {
    "editable": true
   },
=======
   "metadata": {},
>>>>>>> master
   "source": [
    "# Implement `etl.py`\n",
    "Use what you've completed in this notebook to implement `etl.py`."
   ]
  },
  {
   "cell_type": "code",
   "execution_count": null,
<<<<<<< HEAD
   "metadata": {
    "editable": true
   },
=======
   "metadata": {},
>>>>>>> master
   "outputs": [],
   "source": []
  }
 ],
 "metadata": {
  "kernelspec": {
   "display_name": "Python 3",
   "language": "python",
   "name": "python3"
  },
  "language_info": {
   "codemirror_mode": {
    "name": "ipython",
    "version": 3
   },
   "file_extension": ".py",
   "mimetype": "text/x-python",
   "name": "python",
   "nbconvert_exporter": "python",
   "pygments_lexer": "ipython3",
   "version": "3.6.3"
  }
 },
 "nbformat": 4,
<<<<<<< HEAD
 "nbformat_minor": 4
=======
 "nbformat_minor": 2
>>>>>>> master
}
